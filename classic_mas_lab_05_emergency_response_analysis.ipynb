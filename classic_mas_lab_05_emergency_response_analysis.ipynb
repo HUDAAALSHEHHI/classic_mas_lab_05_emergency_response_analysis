{
  "nbformat": 4,
  "nbformat_minor": 0,
  "metadata": {
    "colab": {
      "provenance": [],
      "gpuType": "A100"
    },
    "kernelspec": {
      "name": "python3",
      "display_name": "Python 3"
    },
    "language_info": {
      "name": "python"
    },
    "accelerator": "GPU"
  },
  "cells": [
    {
      "cell_type": "code",
      "execution_count": 1,
      "metadata": {
        "id": "tQHzwXJWMuv9"
      },
      "outputs": [],
      "source": [
        "import random\n",
        "\n",
        "class Agent:\n",
        "    def __init__(self, id):\n",
        "        self.id = id\n",
        "        self.energy = random.randint(50, 100)\n",
        "        self.status = \"active\"\n",
        "\n",
        "    def fail(self):\n",
        "        if random.random() < 0.2:\n",
        "            self.status = \"failed\"\n",
        "\n",
        "    def recover(self):\n",
        "        if self.status == \"failed\" and random.random() < 0.5:\n",
        "            self.status = \"active\"\n"
      ]
    },
    {
      "cell_type": "code",
      "source": [
        "class System:\n",
        "    def __init__(self, n_agents):\n",
        "        self.agents = [Agent(i) for i in range(n_agents)]\n",
        "\n",
        "    def simulate_step(self):\n",
        "        for agent in self.agents:\n",
        "            agent.fail()\n",
        "            agent.recover()\n",
        "\n",
        "    def status_report(self):\n",
        "        active = sum(a.status == \"active\" for a in self.agents)\n",
        "        failed = sum(a.status == \"failed\" for a in self.agents)\n",
        "        print(f\"Active: {active}, Failed: {failed}\")\n"
      ],
      "metadata": {
        "id": "INt1adJZNtWh"
      },
      "execution_count": 2,
      "outputs": []
    },
    {
      "cell_type": "code",
      "source": [
        "system = System(20)\n",
        "for step in range(10):\n",
        "    print(f\"Step {step + 1}:\")\n",
        "    system.simulate_step()\n",
        "    system.status_report()\n"
      ],
      "metadata": {
        "colab": {
          "base_uri": "https://localhost:8080/"
        },
        "id": "YvPmvnS1NxlV",
        "outputId": "ab4acc9e-605e-4767-e717-b1b3ebaaf681"
      },
      "execution_count": 3,
      "outputs": [
        {
          "output_type": "stream",
          "name": "stdout",
          "text": [
            "Step 1:\n",
            "Active: 19, Failed: 1\n",
            "Step 2:\n",
            "Active: 17, Failed: 3\n",
            "Step 3:\n",
            "Active: 17, Failed: 3\n",
            "Step 4:\n",
            "Active: 18, Failed: 2\n",
            "Step 5:\n",
            "Active: 18, Failed: 2\n",
            "Step 6:\n",
            "Active: 17, Failed: 3\n",
            "Step 7:\n",
            "Active: 17, Failed: 3\n",
            "Step 8:\n",
            "Active: 17, Failed: 3\n",
            "Step 9:\n",
            "Active: 17, Failed: 3\n",
            "Step 10:\n",
            "Active: 18, Failed: 2\n"
          ]
        }
      ]
    },
    {
      "cell_type": "code",
      "source": [
        "statuses = [a.status for a in system.agents]\n",
        "recovery_rate = statuses.count(\"active\") / len(statuses)\n",
        "print(f\"System Recovery Rate: {recovery_rate * 100:.2f}%\")\n"
      ],
      "metadata": {
        "id": "JngCCuX_N1-z",
        "outputId": "471c7277-ce43-47f5-a83a-8803cb3413a5",
        "colab": {
          "base_uri": "https://localhost:8080/"
        }
      },
      "execution_count": 4,
      "outputs": [
        {
          "output_type": "stream",
          "name": "stdout",
          "text": [
            "System Recovery Rate: 90.00%\n"
          ]
        }
      ]
    },
    {
      "cell_type": "code",
      "source": [],
      "metadata": {
        "id": "ed8_b-t8N5AL"
      },
      "execution_count": null,
      "outputs": []
    }
  ]
}